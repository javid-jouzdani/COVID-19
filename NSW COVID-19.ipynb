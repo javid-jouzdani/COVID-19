{
 "cells": [
  {
   "cell_type": "code",
   "execution_count": 78,
   "metadata": {},
   "outputs": [],
   "source": [
    "import pandas as pd\n",
    "import seaborn as sns\n",
    "import numpy as np\n",
    "import matplotlib.pyplot as plt\n",
    "from sklearn import linear_model\n",
    "from sklearn.metrics import mean_squared_error, r2_score"
   ]
  },
  {
   "cell_type": "code",
   "execution_count": 79,
   "metadata": {},
   "outputs": [
    {
     "data": {
      "text/html": [
       "<div>\n",
       "<style scoped>\n",
       "    .dataframe tbody tr th:only-of-type {\n",
       "        vertical-align: middle;\n",
       "    }\n",
       "\n",
       "    .dataframe tbody tr th {\n",
       "        vertical-align: top;\n",
       "    }\n",
       "\n",
       "    .dataframe thead th {\n",
       "        text-align: right;\n",
       "    }\n",
       "</style>\n",
       "<table border=\"1\" class=\"dataframe\">\n",
       "  <thead>\n",
       "    <tr style=\"text-align: right;\">\n",
       "      <th></th>\n",
       "      <th>Month</th>\n",
       "      <th>State</th>\n",
       "      <th>Unemployment Rate</th>\n",
       "      <th>Cases</th>\n",
       "    </tr>\n",
       "  </thead>\n",
       "  <tbody>\n",
       "    <tr>\n",
       "      <th>0</th>\n",
       "      <td>2020-01-01</td>\n",
       "      <td>NSW</td>\n",
       "      <td>4.810016</td>\n",
       "      <td>1</td>\n",
       "    </tr>\n",
       "    <tr>\n",
       "      <th>1</th>\n",
       "      <td>2020-02-01</td>\n",
       "      <td>NSW</td>\n",
       "      <td>4.960711</td>\n",
       "      <td>0</td>\n",
       "    </tr>\n",
       "    <tr>\n",
       "      <th>2</th>\n",
       "      <td>2020-03-01</td>\n",
       "      <td>NSW</td>\n",
       "      <td>5.136094</td>\n",
       "      <td>2028</td>\n",
       "    </tr>\n",
       "    <tr>\n",
       "      <th>3</th>\n",
       "      <td>2020-04-01</td>\n",
       "      <td>NSW</td>\n",
       "      <td>6.289434</td>\n",
       "      <td>1176</td>\n",
       "    </tr>\n",
       "    <tr>\n",
       "      <th>4</th>\n",
       "      <td>2020-05-01</td>\n",
       "      <td>NSW</td>\n",
       "      <td>6.342252</td>\n",
       "      <td>84</td>\n",
       "    </tr>\n",
       "    <tr>\n",
       "      <th>5</th>\n",
       "      <td>2020-06-01</td>\n",
       "      <td>NSW</td>\n",
       "      <td>6.731502</td>\n",
       "      <td>98</td>\n",
       "    </tr>\n",
       "    <tr>\n",
       "      <th>6</th>\n",
       "      <td>2020-07-01</td>\n",
       "      <td>NSW</td>\n",
       "      <td>7.129822</td>\n",
       "      <td>378</td>\n",
       "    </tr>\n",
       "    <tr>\n",
       "      <th>7</th>\n",
       "      <td>2020-01-01</td>\n",
       "      <td>VIC</td>\n",
       "      <td>5.842322</td>\n",
       "      <td>2</td>\n",
       "    </tr>\n",
       "    <tr>\n",
       "      <th>8</th>\n",
       "      <td>2020-02-01</td>\n",
       "      <td>VIC</td>\n",
       "      <td>5.721062</td>\n",
       "      <td>4</td>\n",
       "    </tr>\n",
       "    <tr>\n",
       "      <th>9</th>\n",
       "      <td>2020-03-01</td>\n",
       "      <td>VIC</td>\n",
       "      <td>5.456389</td>\n",
       "      <td>910</td>\n",
       "    </tr>\n",
       "    <tr>\n",
       "      <th>10</th>\n",
       "      <td>2020-04-01</td>\n",
       "      <td>VIC</td>\n",
       "      <td>6.129453</td>\n",
       "      <td>444</td>\n",
       "    </tr>\n",
       "    <tr>\n",
       "      <th>11</th>\n",
       "      <td>2020-05-01</td>\n",
       "      <td>VIC</td>\n",
       "      <td>6.645095</td>\n",
       "      <td>288</td>\n",
       "    </tr>\n",
       "    <tr>\n",
       "      <th>12</th>\n",
       "      <td>2020-06-01</td>\n",
       "      <td>VIC</td>\n",
       "      <td>7.131725</td>\n",
       "      <td>510</td>\n",
       "    </tr>\n",
       "    <tr>\n",
       "      <th>13</th>\n",
       "      <td>2020-07-01</td>\n",
       "      <td>VIC</td>\n",
       "      <td>6.743148</td>\n",
       "      <td>8418</td>\n",
       "    </tr>\n",
       "  </tbody>\n",
       "</table>\n",
       "</div>"
      ],
      "text/plain": [
       "        Month State  Unemployment Rate  Cases\n",
       "0  2020-01-01   NSW           4.810016      1\n",
       "1  2020-02-01   NSW           4.960711      0\n",
       "2  2020-03-01   NSW           5.136094   2028\n",
       "3  2020-04-01   NSW           6.289434   1176\n",
       "4  2020-05-01   NSW           6.342252     84\n",
       "5  2020-06-01   NSW           6.731502     98\n",
       "6  2020-07-01   NSW           7.129822    378\n",
       "7  2020-01-01   VIC           5.842322      2\n",
       "8  2020-02-01   VIC           5.721062      4\n",
       "9  2020-03-01   VIC           5.456389    910\n",
       "10 2020-04-01   VIC           6.129453    444\n",
       "11 2020-05-01   VIC           6.645095    288\n",
       "12 2020-06-01   VIC           7.131725    510\n",
       "13 2020-07-01   VIC           6.743148   8418"
      ]
     },
     "execution_count": 79,
     "metadata": {},
     "output_type": "execute_result"
    }
   ],
   "source": [
    "xlsx_file = '/home/javid/NSW COVID-19.xlsx'\n",
    "df = pd.read_excel(xlsx_file, sheet_name='TwoStates')\n",
    "df"
   ]
  },
  {
   "cell_type": "code",
   "execution_count": 80,
   "metadata": {},
   "outputs": [
    {
     "data": {
      "text/html": [
       "<div>\n",
       "<style scoped>\n",
       "    .dataframe tbody tr th:only-of-type {\n",
       "        vertical-align: middle;\n",
       "    }\n",
       "\n",
       "    .dataframe tbody tr th {\n",
       "        vertical-align: top;\n",
       "    }\n",
       "\n",
       "    .dataframe thead th {\n",
       "        text-align: right;\n",
       "    }\n",
       "</style>\n",
       "<table border=\"1\" class=\"dataframe\">\n",
       "  <thead>\n",
       "    <tr style=\"text-align: right;\">\n",
       "      <th></th>\n",
       "      <th>Month</th>\n",
       "      <th>State</th>\n",
       "      <th>Unemployment Rate</th>\n",
       "      <th>Cases</th>\n",
       "      <th>Log Cases</th>\n",
       "      <th>Cum. Log Cases</th>\n",
       "    </tr>\n",
       "  </thead>\n",
       "  <tbody>\n",
       "    <tr>\n",
       "      <th>0</th>\n",
       "      <td>2020-01-01</td>\n",
       "      <td>NSW</td>\n",
       "      <td>4.810016</td>\n",
       "      <td>1</td>\n",
       "      <td>0.000000</td>\n",
       "      <td>0.000000</td>\n",
       "    </tr>\n",
       "    <tr>\n",
       "      <th>1</th>\n",
       "      <td>2020-02-01</td>\n",
       "      <td>NSW</td>\n",
       "      <td>4.960711</td>\n",
       "      <td>1</td>\n",
       "      <td>0.000000</td>\n",
       "      <td>0.000000</td>\n",
       "    </tr>\n",
       "    <tr>\n",
       "      <th>2</th>\n",
       "      <td>2020-03-01</td>\n",
       "      <td>NSW</td>\n",
       "      <td>5.136094</td>\n",
       "      <td>2028</td>\n",
       "      <td>7.614805</td>\n",
       "      <td>7.614805</td>\n",
       "    </tr>\n",
       "    <tr>\n",
       "      <th>3</th>\n",
       "      <td>2020-04-01</td>\n",
       "      <td>NSW</td>\n",
       "      <td>6.289434</td>\n",
       "      <td>1176</td>\n",
       "      <td>7.069874</td>\n",
       "      <td>14.684679</td>\n",
       "    </tr>\n",
       "    <tr>\n",
       "      <th>4</th>\n",
       "      <td>2020-05-01</td>\n",
       "      <td>NSW</td>\n",
       "      <td>6.342252</td>\n",
       "      <td>84</td>\n",
       "      <td>4.430817</td>\n",
       "      <td>19.115496</td>\n",
       "    </tr>\n",
       "    <tr>\n",
       "      <th>5</th>\n",
       "      <td>2020-06-01</td>\n",
       "      <td>NSW</td>\n",
       "      <td>6.731502</td>\n",
       "      <td>98</td>\n",
       "      <td>4.584967</td>\n",
       "      <td>23.700464</td>\n",
       "    </tr>\n",
       "    <tr>\n",
       "      <th>6</th>\n",
       "      <td>2020-07-01</td>\n",
       "      <td>NSW</td>\n",
       "      <td>7.129822</td>\n",
       "      <td>378</td>\n",
       "      <td>5.934894</td>\n",
       "      <td>29.635358</td>\n",
       "    </tr>\n",
       "  </tbody>\n",
       "</table>\n",
       "</div>"
      ],
      "text/plain": [
       "       Month State  Unemployment Rate  Cases  Log Cases  Cum. Log Cases\n",
       "0 2020-01-01   NSW           4.810016      1   0.000000        0.000000\n",
       "1 2020-02-01   NSW           4.960711      1   0.000000        0.000000\n",
       "2 2020-03-01   NSW           5.136094   2028   7.614805        7.614805\n",
       "3 2020-04-01   NSW           6.289434   1176   7.069874       14.684679\n",
       "4 2020-05-01   NSW           6.342252     84   4.430817       19.115496\n",
       "5 2020-06-01   NSW           6.731502     98   4.584967       23.700464\n",
       "6 2020-07-01   NSW           7.129822    378   5.934894       29.635358"
      ]
     },
     "execution_count": 80,
     "metadata": {},
     "output_type": "execute_result"
    }
   ],
   "source": [
    "NSW_df = df.loc[df['State'] == 'NSW'].copy()\n",
    "NSW_df.loc[NSW_df['Cases'] == 0, 'Cases'] = 1\n",
    "NSW_df['Log Cases'] = NSW_df['Cases'].apply(np.log)\n",
    "NSW_df['Cum. Log Cases'] = NSW_df['Log Cases'].cumsum()\n",
    "NSW_df"
   ]
  },
  {
   "cell_type": "code",
   "execution_count": 87,
   "metadata": {},
   "outputs": [
    {
     "data": {
      "image/png": "[encoded data removed]",
      "text/plain": [
       "<Figure size 432x288 with 1 Axes>"
      ]
     },
     "metadata": {
      "needs_background": "light"
     },
     "output_type": "display_data"
    }
   ],
   "source": [
    "ax = sns.regplot(x=\"Cum. Log Cases\", y=\"Unemployment Rate\", data=NSW_df).set_title('NSW Unemployment Rate vs Cumulative Log(Cases)')"
   ]
  },
  {
   "cell_type": "code",
   "execution_count": 82,
   "metadata": {},
   "outputs": [
    {
     "name": "stdout",
     "output_type": "stream",
     "text": [
      "Coefficient: 0.0793\n",
      "Intercept: 4.8409\n",
      "Mean squared error: 0.03\n",
      "Coefficient of determination: 0.96\n"
     ]
    }
   ],
   "source": [
    "x = np.array(NSW_df['Cum. Log Cases']).reshape(-1, 1)\n",
    "y = np.array(NSW_df['Unemployment Rate']).reshape(-1, 1)\n",
    "regr = linear_model.LinearRegression()\n",
    "regr.fit(x, y)\n",
    "NSW_df['Unemp. Rate Pred.'] = regr.predict(x)\n",
    "print('Coefficient: %.4f' % regr.coef_)\n",
    "print('Intercept: %.4f' % regr.intercept_)\n",
    "print('Mean squared error: %.2f' % mean_squared_error(NSW_df['Unemployment Rate'], NSW_df['Unemp. Rate Pred.']))\n",
    "print('Coefficient of determination: %.2f' % r2_score(NSW_df['Unemployment Rate'], NSW_df['Unemp. Rate Pred.']))"
   ]
  },
  {
   "cell_type": "markdown",
   "metadata": {},
   "source": [
    "Therefore, the final regression model for NSW is \n",
    "$U_{t} = 4.84 + 0.079 \\sum \\limits _{j=1} ^{t} ln(C_{j}) $"
   ]
  },
  {
   "cell_type": "code",
   "execution_count": 86,
   "metadata": {},
   "outputs": [
    {
     "data": {
      "text/html": [
       "<div>\n",
       "<style scoped>\n",
       "    .dataframe tbody tr th:only-of-type {\n",
       "        vertical-align: middle;\n",
       "    }\n",
       "\n",
       "    .dataframe tbody tr th {\n",
       "        vertical-align: top;\n",
       "    }\n",
       "\n",
       "    .dataframe thead th {\n",
       "        text-align: right;\n",
       "    }\n",
       "</style>\n",
       "<table border=\"1\" class=\"dataframe\">\n",
       "  <thead>\n",
       "    <tr style=\"text-align: right;\">\n",
       "      <th></th>\n",
       "      <th>Month</th>\n",
       "      <th>State</th>\n",
       "      <th>Unemployment Rate</th>\n",
       "      <th>Cases</th>\n",
       "      <th>Log Cases</th>\n",
       "      <th>Cum. Log Cases</th>\n",
       "    </tr>\n",
       "  </thead>\n",
       "  <tbody>\n",
       "    <tr>\n",
       "      <th>7</th>\n",
       "      <td>2020-01-01</td>\n",
       "      <td>VIC</td>\n",
       "      <td>5.842322</td>\n",
       "      <td>2</td>\n",
       "      <td>0.693147</td>\n",
       "      <td>0.693147</td>\n",
       "    </tr>\n",
       "    <tr>\n",
       "      <th>8</th>\n",
       "      <td>2020-02-01</td>\n",
       "      <td>VIC</td>\n",
       "      <td>5.721062</td>\n",
       "      <td>4</td>\n",
       "      <td>1.386294</td>\n",
       "      <td>2.079442</td>\n",
       "    </tr>\n",
       "    <tr>\n",
       "      <th>9</th>\n",
       "      <td>2020-03-01</td>\n",
       "      <td>VIC</td>\n",
       "      <td>5.456389</td>\n",
       "      <td>910</td>\n",
       "      <td>6.813445</td>\n",
       "      <td>8.892886</td>\n",
       "    </tr>\n",
       "    <tr>\n",
       "      <th>10</th>\n",
       "      <td>2020-04-01</td>\n",
       "      <td>VIC</td>\n",
       "      <td>6.129453</td>\n",
       "      <td>444</td>\n",
       "      <td>6.095825</td>\n",
       "      <td>14.988711</td>\n",
       "    </tr>\n",
       "    <tr>\n",
       "      <th>11</th>\n",
       "      <td>2020-05-01</td>\n",
       "      <td>VIC</td>\n",
       "      <td>6.645095</td>\n",
       "      <td>288</td>\n",
       "      <td>5.662960</td>\n",
       "      <td>20.651671</td>\n",
       "    </tr>\n",
       "    <tr>\n",
       "      <th>12</th>\n",
       "      <td>2020-06-01</td>\n",
       "      <td>VIC</td>\n",
       "      <td>7.131725</td>\n",
       "      <td>510</td>\n",
       "      <td>6.234411</td>\n",
       "      <td>26.886082</td>\n",
       "    </tr>\n",
       "    <tr>\n",
       "      <th>13</th>\n",
       "      <td>2020-07-01</td>\n",
       "      <td>VIC</td>\n",
       "      <td>6.743148</td>\n",
       "      <td>8418</td>\n",
       "      <td>9.038128</td>\n",
       "      <td>35.924209</td>\n",
       "    </tr>\n",
       "  </tbody>\n",
       "</table>\n",
       "</div>"
      ],
      "text/plain": [
       "        Month State  Unemployment Rate  Cases  Log Cases  Cum. Log Cases\n",
       "7  2020-01-01   VIC           5.842322      2   0.693147        0.693147\n",
       "8  2020-02-01   VIC           5.721062      4   1.386294        2.079442\n",
       "9  2020-03-01   VIC           5.456389    910   6.813445        8.892886\n",
       "10 2020-04-01   VIC           6.129453    444   6.095825       14.988711\n",
       "11 2020-05-01   VIC           6.645095    288   5.662960       20.651671\n",
       "12 2020-06-01   VIC           7.131725    510   6.234411       26.886082\n",
       "13 2020-07-01   VIC           6.743148   8418   9.038128       35.924209"
      ]
     },
     "execution_count": 86,
     "metadata": {},
     "output_type": "execute_result"
    }
   ],
   "source": [
    "VIC_df = df.loc[df['State'] == 'VIC'].copy()\n",
    "VIC_df['Log Cases'] = VIC_df['Cases'].apply(np.log)\n",
    "VIC_df['Cum. Log Cases'] = VIC_df['Log Cases'].cumsum()\n",
    "VIC_df"
   ]
  },
  {
   "cell_type": "code",
   "execution_count": 88,
   "metadata": {},
   "outputs": [
    {
     "data": {
      "image/png": "[encoded data removed]",
      "text/plain": [
       "<Figure size 432x288 with 1 Axes>"
      ]
     },
     "metadata": {
      "needs_background": "light"
     },
     "output_type": "display_data"
    }
   ],
   "source": [
    "ax = sns.regplot(x=\"Cum. Log Cases\", y=\"Unemployment Rate\", data=VIC_df).set_title('VIC Unemployment Rate vs Cumulative Log(Cases)')"
   ]
  },
  {
   "cell_type": "code",
   "execution_count": 89,
   "metadata": {},
   "outputs": [
    {
     "name": "stdout",
     "output_type": "stream",
     "text": [
      "Coefficient: 0.0400\n",
      "Intercept: 5.6099\n",
      "Mean squared error: 0.09\n",
      "Coefficient of determination: 0.72\n"
     ]
    }
   ],
   "source": [
    "x = np.array(VIC_df['Cum. Log Cases']).reshape(-1, 1)\n",
    "y = np.array(VIC_df['Unemployment Rate']).reshape(-1, 1)\n",
    "regr = linear_model.LinearRegression()\n",
    "regr.fit(x, y)\n",
    "VIC_df['Unemp. Rate Pred.'] = regr.predict(x)\n",
    "print('Coefficient: %.4f' % regr.coef_)\n",
    "print('Intercept: %.4f' % regr.intercept_)\n",
    "print('Mean squared error: %.2f' % mean_squared_error(VIC_df['Unemployment Rate'], VIC_df['Unemp. Rate Pred.']))\n",
    "print('Coefficient of determination: %.2f' % r2_score(VIC_df['Unemployment Rate'], VIC_df['Unemp. Rate Pred.']))"
   ]
  },
  {
   "cell_type": "markdown",
   "metadata": {},
   "source": [
    "Therefore, the final regression model for VIC is \n",
    "$U_{t} = 5.61 + 0.040 \\sum \\limits _{j=1} ^{t} ln(C_{j}) $"
   ]
  },
  {
   "cell_type": "code",
   "execution_count": null,
   "metadata": {},
   "outputs": [],
   "source": []
  }
 ],
 "metadata": {
  "kernelspec": {
   "display_name": "Python 3",
   "language": "python",
   "name": "python3"
  },
  "language_info": {
   "codemirror_mode": {
    "name": "ipython",
    "version": 3
   },
   "file_extension": ".py",
   "mimetype": "text/x-python",
   "name": "python",
   "nbconvert_exporter": "python",
   "pygments_lexer": "ipython3",
   "version": "3.7.6"
  }
 },
 "nbformat": 4,
 "nbformat_minor": 4
}
